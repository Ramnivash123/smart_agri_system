{
 "cells": [
  {
   "cell_type": "code",
   "execution_count": 1,
   "metadata": {},
   "outputs": [
    {
     "name": "stdout",
     "output_type": "stream",
     "text": [
      " * Serving Flask app '__main__'\n",
      " * Debug mode: on\n"
     ]
    },
    {
     "name": "stderr",
     "output_type": "stream",
     "text": [
      "c:\\Users\\Ramnivash\\AppData\\Local\\Programs\\Python\\Python312\\Lib\\site-packages\\sklearn\\base.py:376: InconsistentVersionWarning: Trying to unpickle estimator StandardScaler from version 1.2.2 when using version 1.5.1. This might lead to breaking code or invalid results. Use at your own risk. For more info please refer to:\n",
      "https://scikit-learn.org/stable/model_persistence.html#security-maintainability-limitations\n",
      "  warnings.warn(\n",
      "WARNING: This is a development server. Do not use it in a production deployment. Use a production WSGI server instead.\n",
      " * Running on http://127.0.0.1:5000\n",
      "Press CTRL+C to quit\n",
      " * Restarting with watchdog (windowsapi)\n"
     ]
    },
    {
     "ename": "SystemExit",
     "evalue": "1",
     "output_type": "error",
     "traceback": [
      "An exception has occurred, use %tb to see the full traceback.\n",
      "\u001b[1;31mSystemExit\u001b[0m\u001b[1;31m:\u001b[0m 1\n"
     ]
    },
    {
     "name": "stderr",
     "output_type": "stream",
     "text": [
      "C:\\Users\\Ramnivash\\AppData\\Roaming\\Python\\Python312\\site-packages\\IPython\\core\\interactiveshell.py:3585: UserWarning: To exit: use 'exit', 'quit', or Ctrl-D.\n",
      "  warn(\"To exit: use 'exit', 'quit', or Ctrl-D.\", stacklevel=1)\n"
     ]
    }
   ],
   "source": [
    "from flask import Flask, request, render_template, flash, jsonify\n",
    "import numpy as np\n",
    "import pickle\n",
    "\n",
    "# Load model and scalers\n",
    "model = pickle.load(open('model.pkl', 'rb'))\n",
    "sc = pickle.load(open('standscaler.pkl', 'rb'))\n",
    "ms = pickle.load(open('minmaxscaler.pkl', 'rb'))\n",
    "\n",
    "# Creating Flask app\n",
    "app = Flask(__name__)\n",
    "app.secret_key = 'your_secret_key'  # Needed for flashing messages\n",
    "\n",
    "# Define input ranges for each factor\n",
    "input_ranges = {\n",
    "    'Nitrogen': (0, 140),\n",
    "    'Phosphorus': (5, 145),\n",
    "    'Potassium': (5, 205),\n",
    "    'Temperature': (8.83, 43.68),\n",
    "    'Humidity': (14.26, 99.98),\n",
    "    'Ph': (3.5, 9.94),\n",
    "    'Rainfall': (20.21, 298.56)\n",
    "}\n",
    "\n",
    "@app.route('/')\n",
    "def index():\n",
    "    return render_template(\"index.html\", ranges=input_ranges)\n",
    "\n",
    "@app.route(\"/predict\", methods=['POST'])\n",
    "def predict():\n",
    "    feature_list = []\n",
    "    for factor, (min_val, max_val) in input_ranges.items():\n",
    "        value = float(request.form[factor])\n",
    "        if not min_val <= value <= max_val:\n",
    "            flash(f\"Warning: {factor} should be between {min_val} and {max_val}.\", \"warning\")\n",
    "            return render_template(\"index.html\", ranges=input_ranges)\n",
    "\n",
    "        feature_list.append(value)\n",
    "\n",
    "    single_pred = np.array(feature_list).reshape(1, -1)\n",
    "\n",
    "    try:\n",
    "        scaled_features = ms.transform(single_pred)\n",
    "        final_features = sc.transform(scaled_features)\n",
    "        prediction = model.predict(final_features)\n",
    "    except Exception as e:\n",
    "        flash(f\"An error occurred during prediction: {str(e)}\", \"danger\")\n",
    "        return render_template(\"index.html\", ranges=input_ranges)\n",
    "\n",
    "    crop_dict = {\n",
    "        1: \"Rice\", 2: \"Maize\", 3: \"Jute\", 4: \"Cotton\", 5: \"Coconut\",\n",
    "        6: \"Papaya\", 7: \"Orange\", 8: \"Apple\", 9: \"Muskmelon\",\n",
    "        10: \"Watermelon\", 11: \"Grapes\", 12: \"Mango\", 13: \"Banana\",\n",
    "        14: \"Pomegranate\", 15: \"Lentil\", 16: \"Blackgram\", 17: \"Mungbean\",\n",
    "        18: \"Mothbeans\", 19: \"Pigeonpeas\", 20: \"Kidneybeans\", 21: \"Chickpea\",\n",
    "        22: \"Coffee\"\n",
    "    }\n",
    "\n",
    "    crop = crop_dict.get(prediction[0], \"Sorry, we could not determine the best crop to be cultivated with the provided data.\")\n",
    "    return jsonify({'prediction': crop})\n",
    "\n",
    "if __name__ == \"__main__\":\n",
    "    app.run(debug=True)\n"
   ]
  }
 ],
 "metadata": {
  "kernelspec": {
   "display_name": "Python 3",
   "language": "python",
   "name": "python3"
  },
  "language_info": {
   "codemirror_mode": {
    "name": "ipython",
    "version": 3
   },
   "file_extension": ".py",
   "mimetype": "text/x-python",
   "name": "python",
   "nbconvert_exporter": "python",
   "pygments_lexer": "ipython3",
   "version": "3.12.4"
  }
 },
 "nbformat": 4,
 "nbformat_minor": 2
}
